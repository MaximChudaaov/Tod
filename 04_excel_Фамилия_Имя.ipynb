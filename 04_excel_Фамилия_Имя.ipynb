{
 "cells": [
  {
   "cell_type": "markdown",
   "metadata": {},
   "source": [
    "# Работа с Excel"
   ]
  },
  {
   "cell_type": "markdown",
   "metadata": {},
   "source": [
    "Материалы:\n",
    "* Макрушин С.В. Лекция 7: Работа с Excel\n",
    "* https://docs.xlwings.org/en/stable/quickstart.html\n",
    "* https://nbviewer.jupyter.org/github/pybokeh/jupyter_notebooks/blob/master/xlwings/Excel_Formatting.ipynb#search_text\n"
   ]
  },
  {
   "cell_type": "markdown",
   "metadata": {},
   "source": [
    "## Задачи для совместного разбора"
   ]
  },
  {
   "cell_type": "markdown",
   "metadata": {},
   "source": [
    "1. На листе \"Рецептура\" файла `себестоимостьА_в1.xlsx` для области \"Пшеничный хлеб\" рассчитать себестоимость всех видов продукции."
   ]
  },
  {
   "cell_type": "code",
   "execution_count": null,
   "metadata": {},
   "outputs": [],
   "source": []
  },
  {
   "cell_type": "markdown",
   "metadata": {},
   "source": [
    "2. Результаты расчетов 1.1 сохранить в отдельном столбце области \"Пшеничный хлеб\""
   ]
  },
  {
   "cell_type": "markdown",
   "metadata": {},
   "source": [
    "3. Приблизить форматирование столбца, добавленного в задаче 2 к оформлению всей области."
   ]
  },
  {
   "cell_type": "markdown",
   "metadata": {},
   "source": [
    "4. Выполнить 3 с помощью \"протягиваемых\" формул."
   ]
  },
  {
   "cell_type": "markdown",
   "metadata": {},
   "source": [
    "## Лабораторная работа 7.1"
   ]
  },
  {
   "cell_type": "code",
   "execution_count": 2,
   "metadata": {},
   "outputs": [],
   "source": [
    "import csv\n",
    "import pandas as pd"
   ]
  },
  {
   "cell_type": "markdown",
   "metadata": {},
   "source": [
    "1. Загрузите данные из файлов `reviews_sample.csv` (__ЛР2__) и `recipes_sample.csv` (__ЛР5__) в виде `pd.DataFrame`. Обратите внимание на корректное считывание столбца(ов) с индексами. Оставьте в таблице с рецептами следующие столбцы: `id`, `name`, `minutes`, `submitted`, `description`, `n_ingredients`"
   ]
  },
  {
   "cell_type": "code",
   "execution_count": 3,
   "metadata": {},
   "outputs": [
    {
     "data": {
      "text/html": [
       "<div>\n",
       "<style scoped>\n",
       "    .dataframe tbody tr th:only-of-type {\n",
       "        vertical-align: middle;\n",
       "    }\n",
       "\n",
       "    .dataframe tbody tr th {\n",
       "        vertical-align: top;\n",
       "    }\n",
       "\n",
       "    .dataframe thead th {\n",
       "        text-align: right;\n",
       "    }\n",
       "</style>\n",
       "<table border=\"1\" class=\"dataframe\">\n",
       "  <thead>\n",
       "    <tr style=\"text-align: right;\">\n",
       "      <th></th>\n",
       "      <th>name</th>\n",
       "      <th>id</th>\n",
       "      <th>minutes</th>\n",
       "      <th>contributor_id</th>\n",
       "      <th>submitted</th>\n",
       "      <th>n_steps</th>\n",
       "      <th>description</th>\n",
       "      <th>n_ingredients</th>\n",
       "    </tr>\n",
       "  </thead>\n",
       "  <tbody>\n",
       "    <tr>\n",
       "      <th>0</th>\n",
       "      <td>george s at the cove  black bean soup</td>\n",
       "      <td>44123</td>\n",
       "      <td>90</td>\n",
       "      <td>35193</td>\n",
       "      <td>2002-10-25</td>\n",
       "      <td>NaN</td>\n",
       "      <td>an original recipe created by chef scott meska...</td>\n",
       "      <td>18.0</td>\n",
       "    </tr>\n",
       "    <tr>\n",
       "      <th>1</th>\n",
       "      <td>healthy for them  yogurt popsicles</td>\n",
       "      <td>67664</td>\n",
       "      <td>10</td>\n",
       "      <td>91970</td>\n",
       "      <td>2003-07-26</td>\n",
       "      <td>NaN</td>\n",
       "      <td>my children and their friends ask for my homem...</td>\n",
       "      <td>NaN</td>\n",
       "    </tr>\n",
       "    <tr>\n",
       "      <th>2</th>\n",
       "      <td>i can t believe it s spinach</td>\n",
       "      <td>38798</td>\n",
       "      <td>30</td>\n",
       "      <td>1533</td>\n",
       "      <td>2002-08-29</td>\n",
       "      <td>NaN</td>\n",
       "      <td>these were so go, it surprised even me.</td>\n",
       "      <td>8.0</td>\n",
       "    </tr>\n",
       "    <tr>\n",
       "      <th>3</th>\n",
       "      <td>italian  gut busters</td>\n",
       "      <td>35173</td>\n",
       "      <td>45</td>\n",
       "      <td>22724</td>\n",
       "      <td>2002-07-27</td>\n",
       "      <td>NaN</td>\n",
       "      <td>my sister-in-law made these for us at a family...</td>\n",
       "      <td>NaN</td>\n",
       "    </tr>\n",
       "    <tr>\n",
       "      <th>4</th>\n",
       "      <td>love is in the air  beef fondue   sauces</td>\n",
       "      <td>84797</td>\n",
       "      <td>25</td>\n",
       "      <td>4470</td>\n",
       "      <td>2004-02-23</td>\n",
       "      <td>4.0</td>\n",
       "      <td>i think a fondue is a very romantic casual din...</td>\n",
       "      <td>NaN</td>\n",
       "    </tr>\n",
       "  </tbody>\n",
       "</table>\n",
       "</div>"
      ],
      "text/plain": [
       "                                       name     id  minutes  contributor_id  \\\n",
       "0     george s at the cove  black bean soup  44123       90           35193   \n",
       "1        healthy for them  yogurt popsicles  67664       10           91970   \n",
       "2              i can t believe it s spinach  38798       30            1533   \n",
       "3                      italian  gut busters  35173       45           22724   \n",
       "4  love is in the air  beef fondue   sauces  84797       25            4470   \n",
       "\n",
       "    submitted  n_steps                                        description  \\\n",
       "0  2002-10-25      NaN  an original recipe created by chef scott meska...   \n",
       "1  2003-07-26      NaN  my children and their friends ask for my homem...   \n",
       "2  2002-08-29      NaN            these were so go, it surprised even me.   \n",
       "3  2002-07-27      NaN  my sister-in-law made these for us at a family...   \n",
       "4  2004-02-23      4.0  i think a fondue is a very romantic casual din...   \n",
       "\n",
       "   n_ingredients  \n",
       "0           18.0  \n",
       "1            NaN  \n",
       "2            8.0  \n",
       "3            NaN  \n",
       "4            NaN  "
      ]
     },
     "execution_count": 3,
     "metadata": {},
     "output_type": "execute_result"
    }
   ],
   "source": [
    "\n",
    "reviews = pd.read_csv('reviews_sample.csv', index_col=0)\n",
    "recipes = pd.read_csv('recipes_sample.csv', index_col=0, usecols=['id', 'name', 'minutes', 'submitted', 'description', 'n_ingredients'])"
   ]
  },
  {
   "cell_type": "markdown",
   "metadata": {},
   "source": [
    "2. Случайным образом выберите 5% строк из каждой таблицы и сохраните две таблицы на разные листы в один файл `recipes.xlsx`. Дайте листам названия \"Рецепты\" и \"Отзывы\", соответствующие содержанию таблиц. "
   ]
  },
  {
   "cell_type": "code",
   "execution_count": null,
   "metadata": {},
   "outputs": [],
   "source": [
    "reviews_sample = reviews.sample(frac=0.05, random_state=42)\n",
    "recipes_sample = recipes.sample(frac=0.05, random_state=42)\n",
    "with pd.ExcelWriter('recipes.xlsx') as writer:\n",
    "    recipes_sample.to_excel(writer, sheet_name='Рецепты')\n",
    "    reviews_sample.to_excel(writer, sheet_name='Отзывы')"
   ]
  },
  {
   "cell_type": "markdown",
   "metadata": {},
   "source": [
    "3. Используя `xlwings`, добавьте на лист `Рецепты` столбец `seconds_assign`, показывающий время выполнения рецепта в секундах. Выполните задание при помощи присваивания массива значений диапазону ячеек."
   ]
  },
  {
   "cell_type": "code",
   "execution_count": null,
   "metadata": {},
   "outputs": [],
   "source": [
    "recipes_wb = xw.Book('recipes.xlsx')\n",
    "recipes_sheet = recipes_wb.sheets['Рецепты']\n",
    "minutes_range = recipes_sheet.range('D2:D' + str(len(recipes_sample) + 1))\n",
    "seconds_assign = [int(minutes * 60) for minutes in minutes_range.value]\n",
    "recipes_sheet.range('G2').value = 'seconds_assign'\n",
    "recipes_sheet.range('G3:G' + str(len(recipes_sample) + 1)).value = seconds_assign"
   ]
  },
  {
   "cell_type": "markdown",
   "metadata": {},
   "source": [
    "4. Используя `xlwings`, добавьте на лист `Рецепты` столбец `seconds_formula`, показывающий время выполнения рецепта в секундах. Выполните задание при помощи формул Excel."
   ]
  },
  {
   "cell_type": "code",
   "execution_count": null,
   "metadata": {},
   "outputs": [],
   "source": [
    "ecipes_sheet.range('H2').value = 'seconds_formula'\n",
    "recipes_sheet.range('H3:H' + str(len(recipes_sample) + 1)).formula = '=D3*60'"
   ]
  },
  {
   "cell_type": "markdown",
   "metadata": {},
   "source": [
    "5. Сделайте названия всех добавленных столбцов полужирными и выровняйте по центру ячейки."
   ]
  },
  {
   "cell_type": "code",
   "execution_count": null,
   "metadata": {},
   "outputs": [],
   "source": [
    "for col in ['A', 'B', 'C', 'D', 'E', 'F', 'G', 'H']:\n",
    "    recipes_sheet.range(col + '1').api.Font.Bold = True\n",
    "    recipes_sheet.range(col + '1').api.HorizontalAlignment = xw.constants.HAlign.Center\n",
    "recipes_wb.save()"
   ]
  },
  {
   "cell_type": "markdown",
   "metadata": {},
   "source": [
    "6. Раскрасьте ячейки столбца `minutes` в соответствии со следующим правилом: если рецепт выполняется быстрее 5 минут, то цвет - зеленый; от 5 до 10 минут - жёлтый; и больше 10 - красный."
   ]
  },
  {
   "cell_type": "code",
   "execution_count": null,
   "metadata": {},
   "outputs": [],
   "source": [
    "for i in range(2, len(recipessample)+2):\n",
    "    minutes = recipessheet.range('D' + str(i)).value\n",
    "    if minutes < 5:\n",
    "        recipessheet.range('D' + str(i)).color = (0, 255, 0)\n",
    "    elif minutes >= 5 and minutes <= 10:\n",
    "        recipessheet.range('D' + str(i)).color = (255, 255, 0)\n",
    "    else:\n",
    "        recipessheet.range('D' + str(i)).color = (255, 0, 0)"
   ]
  },
  {
   "cell_type": "markdown",
   "metadata": {},
   "source": [
    "7. Добавьте на лист `Рецепты`  столбец `n_reviews`, содержащий кол-во отзывов для этого рецепта. Выполните задание при помощи формул Excel."
   ]
  },
  {
   "cell_type": "code",
   "execution_count": null,
   "metadata": {},
   "outputs": [],
   "source": [
    "reviewscountformula = '=COUNTIFS(Отзывы!$C:$C,Рецепты!A3)'\n",
    "recipessheet.range('I2').value = 'nreviews'\n",
    "recipessheet.range('I3:I' + str(len(recipessample) + 1)).formula = reviewscountformula"
   ]
  },
  {
   "cell_type": "markdown",
   "metadata": {},
   "source": [
    "## Лабораторная работа 7.2"
   ]
  },
  {
   "cell_type": "markdown",
   "metadata": {},
   "source": [
    "8. Напишите функцию `validate()`, которая проверяет соответствие всех строк из листа `Отзывы` следующим правилам:\n",
    "    * Рейтинг - это число от 0 до 5 включительно\n",
    "    * Соответствующий рецепт имеется на листе `Рецепты`\n",
    "    \n",
    "В случае несоответствия этим правилам, выделите строку красным цветом"
   ]
  },
  {
   "cell_type": "code",
   "execution_count": null,
   "metadata": {},
   "outputs": [],
   "source": [
    "def validate():\n",
    "    reviewssheet = recipeswb.sheets['Отзывы']\n",
    "    recipessheet = recipeswb.sheets['Рецепты']\n",
    "    maxrow = len(reviewssheet.range('A:A').value)\n",
    "    for i in range(2, maxrow+1):\n",
    "        rating = reviewssheet.range('D'+str(i)).value\n",
    "        recipeid = reviewssheet.range('C'+str(i)).value\n",
    "        if rating is not None and (rating < 0 or rating > 5):\n",
    "            reviewssheet.range('A'+str(i)+':E'+str(i)).color = (255, 0, 0)\n",
    "        elif recipeid not in recipessheet.range('A2:A'+str(len(recipessample)+1)).value:\n",
    "            reviewssheet.range('A'+str(i)+':E'+str(i)).color = (255, 0, 0)\n",
    "validate()"
   ]
  },
  {
   "cell_type": "markdown",
   "metadata": {},
   "source": [
    "9. В файле `recipes_model.csv` находится модель данных предметной области \"рецепты\". При помощи пакета `csv` считайте эти данные. При помощи пакета `xlwings` запишите данные на лист `Модель` книги `recipes_model.xlsx`, начиная с ячейки `A2`, не используя циклы. Сделайте скриншот текущего состояния листа и прикрепите в ячейку ноутбука. "
   ]
  },
  {
   "cell_type": "code",
   "execution_count": null,
   "metadata": {},
   "outputs": [],
   "source": [
    "import csv\n",
    "import xlwings as xw\n",
    "\n",
    "\n",
    "recipesmodel = pd.readcsv('recipesmodel.csv')\n",
    "recipesmodelwb = xw.Book()\n",
    "recipesmodelsheet = recipesmodelwb.sheets[0]\n",
    "recipesmodelsheet.range('A2').value = recipesmodel"
   ]
  },
  {
   "cell_type": "markdown",
   "metadata": {},
   "source": [
    "10. При помощи пакета `xlwings` добавьте в столбец J формулу для описания столбца на языке SQL. Формула должна реализовывать следующую логику:\n",
    "\n",
    "    1\\. в начале строки идут значения из столбцов В и C (значение столбца С приведено к верхнему регистру), разделенные пробелом\n",
    "    \n",
    "    2\\. далее идут слова на основе столбца \"Ключ\"\n",
    "        2.1 если в столбце \"Ключ\" указано значение \"PK\", то дальше через пробел идет ключевое слово \"PRIMARY KEY\"\n",
    "        2.2 если в столбце \"Ключ\" указано значение \"FK\", то дальше через пробел идет ключевое слово \"REFERENCES\", затем значения столбцов H и I в формате \"название_таблицы(название_столбца)\"\n",
    "        \n",
    "    3\\. если в столбце \"Обязательно к заполнению\" указано значение \"Y\" и в столбце \"Ключ\" указано не \"PK\", то дальше через пробел идет ключевое слово \"NOT NULL\".\n",
    "\n",
    "Заполните этой формулой необходимое количество строк, используя \"протягивание\". Количество строк для протягивания определите на основе данных.\n",
    "\n",
    "Сделайте скриншот текущего состояния листа и прикрепите в ячейку ноутбука."
   ]
  },
  {
   "cell_type": "code",
   "execution_count": null,
   "metadata": {},
   "outputs": [],
   "source": [
    "import xlwings as xw\n",
    "\n",
    "wb = xw.Book('book.xlsx')\n",
    "sheet = wb.sheets.active\n",
    "last_row = sheet.range('A1').end('down').row\n",
    "for row in range(2, last_row+1):\n",
    "    b_value = sheet.range(f'B{row}').value\n",
    "    c_value = sheet.range(f'C{row}').value.upper()\n",
    "    key_value = sheet.range(f'K{row}').value\n",
    "    not_null = ''\n",
    "    reference = ''\n",
    "    if key_value == 'PK':\n",
    "        keyword = 'PRIMARY KEY'\n",
    "    elif key_value == 'FK':\n",
    "        keyword = 'REFERENCES'\n",
    "        h_value = sheet.range(f'H{row}').value\n",
    "        i_value = sheet.range(f'I{row}').value\n",
    "        reference = f'{h_value}({i_value})'\n",
    "    else:\n",
    "        keyword = ''\n",
    "    if sheet.range(f'G{row}').value == 'Y' and key_value != 'PK':\n",
    "        not_null = 'NOT NULL'\n",
    "    sheet.range(f'J{row}').formula = f'=\"{b_value} {c_value} {keyword} {reference} {not_null}\"'\n",
    "wb.save() "
   ]
  },
  {
   "cell_type": "markdown",
   "metadata": {},
   "source": [
    "11. При помощи пакета `xlwings` измените стилизацию листа `Модель`.\n",
    "* для заголовков добавьте заливку цвета `00ccff`\n",
    "* примените автоподбор ширины столбца;\n",
    "* сделайте шрифт заголовков полужирным;\n",
    "* добавьте таблице автофильтр.\n",
    "\n",
    "Сделайте скриншот текущего состояния листа и прикрепите в ячейку ноутбука."
   ]
  },
  {
   "cell_type": "code",
   "execution_count": null,
   "metadata": {},
   "outputs": [],
   "source": [
    "import xlwings as xw\n",
    "\n",
    "\n",
    "wb = xw.Book('book.xlsx')\n",
    "sht = wb.sheets['Модель']\n",
    "sht.range('A1:G1').color = (0, 204, 255)\n",
    "sht.range('A1:G1').api.Font.Bold = True\n",
    "sht.range('A1:G1').api.EntireColumn.AutoFit()\n",
    "sht.range('A1').api.AutoFilter()\n",
    "wb.save()"
   ]
  },
  {
   "cell_type": "markdown",
   "metadata": {},
   "source": [
    "12. Посчитайте количество атрибутов для каждой из сущностей. Создайте лист `Статистика` и запишите в него результат группировки, начиная с ячейки \"А1\". Визуализируйте полученный результат при помощи столбчатой диаграммы. Сохраните полученную визуализацию на лист `Статистика`, начиная с ячейки \"E2\".  Сделайте скриншот листа `Статистика` и прикрепите в ячейку ноутбука.\n",
    "\n",
    "* Вы можете воспользоваться методами для визуализации, которые поставляются вместе с объектами `pandas` (см. https://pandas.pydata.org/docs/reference/api/pandas.DataFrame.plot) "
   ]
  }
 ],
 "metadata": {
  "kernelspec": {
   "display_name": "Python 3 (ipykernel)",
   "language": "python",
   "name": "python3"
  },
  "language_info": {
   "codemirror_mode": {
    "name": "ipython",
    "version": 3
   },
   "file_extension": ".py",
   "mimetype": "text/x-python",
   "name": "python",
   "nbconvert_exporter": "python",
   "pygments_lexer": "ipython3",
   "version": "3.9.12"
  }
 },
 "nbformat": 4,
 "nbformat_minor": 4
}
